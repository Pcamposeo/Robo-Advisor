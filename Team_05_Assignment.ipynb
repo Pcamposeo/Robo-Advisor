{
 "cells": [
  {
   "cell_type": "code",
   "execution_count": 2,
   "metadata": {},
   "outputs": [],
   "source": [
    "from IPython.display import display, Math, Latex\n",
    "\n",
    "import pandas as pd\n",
    "import numpy as np\n",
    "import numpy_financial as npf\n",
    "import yfinance as yf\n",
    "import matplotlib.pyplot as plt\n",
    "from datetime import datetime\n",
    "from dateutil.relativedelta import relativedelta"
   ]
  },
  {
   "cell_type": "markdown",
   "metadata": {},
   "source": [
    "## Group Assignment\n",
    "### Team Number: 05\n",
    "### Team Member Names: Piero Camposeo, Sathun Suthakaran, Ishaan Bansal\n",
    "### Team Strategy Chosen: SAFE"
   ]
  },
  {
   "cell_type": "markdown",
   "metadata": {},
   "source": [
    "*Abstract and explanation go here*"
   ]
  },
  {
   "cell_type": "code",
   "execution_count": 3,
   "metadata": {},
   "outputs": [],
   "source": [
    "#Read in csv file of tickers\n",
    "csv_file = \"Tickers.csv\"\n",
    "\n",
    "# Make values into a list\n",
    "tickers = pd.read_csv(csv_file)\n",
    "ticker_list = tickers.iloc[:, 0].values.tolist()\n",
    "ticker_list.insert(0, tickers.columns[0])"
   ]
  },
  {
   "cell_type": "code",
   "execution_count": 4,
   "metadata": {},
   "outputs": [],
   "source": [
    "#Consumes desired amount of trading days within a month, a dataframe of days, a dstaframe of months, and a list of months that cooresponds to the months\n",
    "#    on the dataframe, outputs the monthly dataframe with only months that have 'daycount' amount of trading days for that stock\n",
    "#Note: Function will cover up to the last date. For example, the function will not produce October for a dataframe which ends on October 1st.\n",
    "#   In our code, we simply passed a days dataframe that ends one month after the months dataframe does (*)\n",
    "def df_with_valid_months(daycount, df_days, df_months, months):\n",
    "    for month in range (len(months)):\n",
    "        if len(df_days.filter(like = months[month], axis = 0)) < daycount:\n",
    "            df_months.drop(df_months.index[month], axis = 0, inplace = True) #Drop any months with not enough trading days\n",
    "            \n",
    "    return(df_months)\n",
    "\n",
    "#Consumes historical data for a stock, outputs average volume\n",
    "def average_volume(df_hist):\n",
    "    volume = df_hist['Volume'].dropna().values.tolist()\n",
    "    vol_av = np.mean(volume)\n",
    "\n",
    "    return(vol_av)\n"
   ]
  },
  {
   "cell_type": "code",
   "execution_count": 5,
   "metadata": {},
   "outputs": [
    {
     "name": "stdout",
     "output_type": "stream",
     "text": [
      "- AGN: No data found, symbol may be delisted\n",
      "- AGN: No data found, symbol may be delisted\n",
      "Error retrieving AGN.\n",
      "- CELG: No data found, symbol may be delisted\n",
      "- CELG: No data found, symbol may be delisted\n",
      "Error retrieving CELG.\n",
      "- PCLN: No data found for this date range, symbol may be delisted\n",
      "- PCLN: No data found for this date range, symbol may be delisted\n",
      "Error retrieving PCLN.\n",
      "- RTN: No data found, symbol may be delisted\n",
      "- RTN: No data found, symbol may be delisted\n",
      "Error retrieving RTN.\n",
      "- TWX: No data found for this date range, symbol may be delisted\n",
      "- TWX: No data found for this date range, symbol may be delisted\n",
      "Error retrieving TWX.\n"
     ]
    }
   ],
   "source": [
    "#Consumes a list of tickers, outputs tickers that:\n",
    "#   a) Are US listed\n",
    "#   b) Have an average monthly volume of 200 000 shares\n",
    "def filter_stocks(ticker_list):\n",
    "    #dates for volume calculation, end date for valid months function (see (*))\n",
    "    vol_date_s = '2022-01-01'\n",
    "    vol_date_e = '2022-10-02'\n",
    "    endDForValidMonthsFunct = str((pd.to_datetime(vol_date_e) + relativedelta(months = 1)).strftime(\"%Y-%m-%d\"))\n",
    "\n",
    "    #As outlined in assignment information\n",
    "    minimumMonthlyTradingDays = 20\n",
    "    minimum_volume = 200000\n",
    "\n",
    "    #Here we will put valid stocks that fit our criteria\n",
    "    newlist = []\n",
    "    \n",
    "    #for df_with_valid_months function, created a series of months from vol_date_s to vol_date_e\n",
    "    months = pd.date_range(vol_date_s, vol_date_e, freq='MS').strftime(\"%Y-%m\").tolist()\n",
    "\n",
    "    #Checks for criteria needed to be a valid ticker\n",
    "    for ticker in ticker_list:\n",
    "        tick = yf.Ticker(ticker)\n",
    "        tick_hist = tick.history(start = vol_date_s, end  = vol_date_e, interval = '1mo').dropna()\n",
    "        \n",
    "        try:\n",
    "            #Custom dataframe for valid months check (daily, ending one month after monthly dataframe)\n",
    "            tickHistForValidMonthsCheck = tick.history(start = vol_date_s, end  = endDForValidMonthsFunct, interval = '1d').dropna()\n",
    "            #Dataframe with valid months only\n",
    "            tickHistWithValidMonths = df_with_valid_months(minimumMonthlyTradingDays, tickHistForValidMonthsCheck, tick_hist, months)\n",
    "\n",
    "            monthly_average_volume = 0 #Initialize this to 0 to prevent errors\n",
    "            monthly_average_volume = average_volume(tickHistWithValidMonths)\n",
    "\n",
    "            currency = tick.info['financialCurrency']\n",
    "        \n",
    "            #Check for criteria\n",
    "            if (currency == 'USD' and monthly_average_volume >= minimum_volume):\n",
    "                    newlist.append(ticker)\n",
    "        #Function will throw an error if the stock isn't valid due to the attempt to call on its .info\n",
    "        except:\n",
    "            print(f\"Error retrieving {ticker}.\")\n",
    "\n",
    "    return(newlist)\n",
    "    \n",
    "#Final list of valid tickers\n",
    "ticker_list = filter_stocks(ticker_list)"
   ]
  },
  {
   "cell_type": "code",
   "execution_count": null,
   "metadata": {},
   "outputs": [],
   "source": []
  },
  {
   "cell_type": "code",
   "execution_count": null,
   "metadata": {},
   "outputs": [],
   "source": [
    "#Sathun"
   ]
  },
  {
   "cell_type": "code",
   "execution_count": null,
   "metadata": {},
   "outputs": [],
   "source": []
  },
  {
   "cell_type": "code",
   "execution_count": null,
   "metadata": {},
   "outputs": [],
   "source": [
    "#Ishaan\n",
    "# Consumes a Dataframe of a list of stocks and their daily percent returns and produces a list of the 25 least volatile stocks\n",
    "def lowest_volatile_stocks(pr_df):\n",
    "    \n",
    "    all_stock_vol = []   # List to store the volatility of the stocks in the dataframe\n",
    "    time_period = len(pr_df)   # variable to store the number of data points available/time period\n",
    "\n",
    "    for i in range(len(pr_df.columns)):   # Performs the operations for every column which is a stock\n",
    "        stock_std = pr_df.iloc[:,i].std()   # Calculates the std of the stock's daily percent return\n",
    "        stock_vol = stock_std * time_period**1/2   # Calculates the volatility of the stock\n",
    "        \n",
    "        all_stock_vol.append(stock_vol)   # Stores the volatility of the stock in the list\n",
    "    \n",
    "    all_stock_vol_df = pd.DataFrame({\"Stocks\": list(pr_df.columns), \"Volatility\": all_stock_vol,})   # Creates a dataframe that will store each stock and their volatility\n",
    "    all_stock_vol_df.sort_values(by = \"Volatility\", inplace = True)   # Sorts the dataframe in non-decreasing order of volatility\n",
    "\n",
    "    portfolio = list(all_stock_vol_df['Stocks'].head(25))   # Creates a list of the 25 least volatile stocks in the DataFrame provided\n",
    "    \n",
    "    return portfolio  # Returns the list of the 25 least volatile stocks"
   ]
  },
  {
   "cell_type": "code",
   "execution_count": null,
   "metadata": {},
   "outputs": [],
   "source": [
    "# Consumes a list of tickers and a DataFrame. The requirements of the DataFrame are:\n",
    "#   a) df is either a DataFrame of closing prices of stocks with the stock name as the column header or a DataFrame of percent returns of stocks with the stock name as the column header\n",
    "#   b) df must include all of the tickers in list_of_ticks\n",
    "# The function returns a dataframe of the stocks from list_of_ticks and either their closing prices or daily percent returns, depending on what was inputted, with the stock name as the column header\n",
    "def lowest_volatile_stocks_df_filter(list_of_ticks, df):\n",
    "\n",
    "    final_df = pd.DataFrame({list_of_ticks[0]: df[list_of_ticks[0]],})  # Creates the dataframe to store the data and creates the first column with the first stock's data from list_of_ticks\n",
    "\n",
    "    for i in range(1,25):   # Performs the operations for every ticker in list_of_ticks, excluding the first ticker\n",
    "        final_df[list_of_ticks[i]] = df[list_of_ticks[i]]   # Creates a new column with the stock's data and the stock name as the header\n",
    "\n",
    "    return final_df    # Returns the final dataframe with all the tickers from list_of_ticks and their data from df"
   ]
  },
  {
   "cell_type": "code",
   "execution_count": 6,
   "metadata": {},
   "outputs": [
    {
     "data": {
      "text/plain": [
       "['AAPL',\n",
       " 'ABBV',\n",
       " 'ABT',\n",
       " 'ACN',\n",
       " 'AIG',\n",
       " 'AMZN',\n",
       " 'AXP',\n",
       " 'BA',\n",
       " 'BAC',\n",
       " 'BIIB',\n",
       " 'BK',\n",
       " 'BLK',\n",
       " 'BMY',\n",
       " 'C',\n",
       " 'CAT',\n",
       " 'CL',\n",
       " 'CMCSA',\n",
       " 'COF',\n",
       " 'COP',\n",
       " 'COST',\n",
       " 'CSCO',\n",
       " 'CVS',\n",
       " 'GM',\n",
       " 'GOOG',\n",
       " 'JPM',\n",
       " 'KMI',\n",
       " 'KO',\n",
       " 'LLY',\n",
       " 'LMT',\n",
       " 'MO',\n",
       " 'MON',\n",
       " 'MRK',\n",
       " 'MS',\n",
       " 'MSFT',\n",
       " 'NEE',\n",
       " 'NKE',\n",
       " 'ORCL',\n",
       " 'OXY',\n",
       " 'PEP',\n",
       " 'PFE',\n",
       " 'PG',\n",
       " 'PM',\n",
       " 'PYPL',\n",
       " 'QCOM',\n",
       " 'SBUX',\n",
       " 'SLB',\n",
       " 'SO',\n",
       " 'SPG',\n",
       " 'T',\n",
       " 'TGT',\n",
       " 'TXN',\n",
       " 'UNH',\n",
       " 'UNP',\n",
       " 'UPS',\n",
       " 'USB']"
      ]
     },
     "execution_count": 6,
     "metadata": {},
     "output_type": "execute_result"
    }
   ],
   "source": [
    "ticker_list"
   ]
  },
  {
   "cell_type": "markdown",
   "metadata": {},
   "source": [
    "## Contribution Declaration\n",
    "\n",
    "The following team members made a meaningful contribution to this assignment:\n",
    "\n",
    "Piero Camposeo, Sathun Suthakaran, Ishaan Bansal"
   ]
  }
 ],
 "metadata": {
  "kernelspec": {
   "display_name": "venv",
   "language": "python",
   "name": "venv"
  },
  "language_info": {
   "codemirror_mode": {
    "name": "ipython",
    "version": 3
   },
   "file_extension": ".py",
   "mimetype": "text/x-python",
   "name": "python",
   "nbconvert_exporter": "python",
   "pygments_lexer": "ipython3",
   "version": "3.9.12"
  },
  "vscode": {
   "interpreter": {
    "hash": "e4330579a270bdb9a8676237a34964b41e4839bd986df81befe1ef5b370fe0dc"
   }
  }
 },
 "nbformat": 4,
 "nbformat_minor": 2
}
