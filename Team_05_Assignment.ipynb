{
 "cells": [
  {
   "cell_type": "code",
   "execution_count": 30,
   "metadata": {},
   "outputs": [],
   "source": [
    "from IPython.display import display, Math, Latex\n",
    "\n",
    "import pandas as pd\n",
    "import numpy as np\n",
    "import numpy_financial as npf\n",
    "import yfinance as yf\n",
    "import matplotlib.pyplot as plt\n",
    "from datetime import datetime\n",
    "from dateutil.relativedelta import relativedelta"
   ]
  },
  {
   "cell_type": "markdown",
   "metadata": {},
   "source": [
    "## Group Assignment\n",
    "### Team Number: 05\n",
    "### Team Member Names: Piero Camposeo, Sathun Suthakaran, Ishaan Bansal\n",
    "### Team Strategy Chosen: SAFE"
   ]
  },
  {
   "cell_type": "markdown",
   "metadata": {},
   "source": [
    "*Abstract and explanation go here*"
   ]
  },
  {
   "cell_type": "code",
   "execution_count": 31,
   "metadata": {},
   "outputs": [],
   "source": [
    "#Read in csv file of tickers\n",
    "csv_file = \"Tickers.csv\"\n",
    "\n",
    "# Make values into a list\n",
    "tickers = pd.read_csv(csv_file)\n",
    "ticker_list = tickers.iloc[:, 0].values.tolist()\n",
    "ticker_list.insert(0, tickers.columns[0])"
   ]
  },
  {
   "cell_type": "code",
   "execution_count": 32,
   "metadata": {},
   "outputs": [],
   "source": [
    "#Consumes desired amount of trading days within a month, a dataframe of days, a dstaframe of months, and a list of months that cooresponds to the months\n",
    "#    on the dataframe, outputs the monthly dataframe with only months that have 'daycount' amount of trading days for that stock\n",
    "#Note: Function will cover up to the last date. For example, the function will not produce October for a dataframe which ends on October 1st.\n",
    "#   In our code, we simply passed a days dataframe that ends one month after the months dataframe does (*)\n",
    "def df_with_valid_months(daycount, df_days, df_months, months):\n",
    "    for month in range (len(months)):\n",
    "        if len(df_days.filter(like = months[month], axis = 0)) < daycount:\n",
    "            df_months.drop(df_months.index[month], axis = 0, inplace = True) #Drop any months with not enough trading days\n",
    "            \n",
    "    return(df_months)\n",
    "\n",
    "#Consumes historical data for a stock, outputs average volume\n",
    "def average_volume(df_hist):\n",
    "    volume = df_hist['Volume'].dropna().values.tolist()\n",
    "    vol_av = np.mean(volume)\n",
    "\n",
    "    return(vol_av)\n"
   ]
  },
  {
   "cell_type": "code",
   "execution_count": 33,
   "metadata": {},
   "outputs": [
    {
     "name": "stdout",
     "output_type": "stream",
     "text": [
      "Error retrieving AAPL.\n"
     ]
    }
   ],
   "source": [
    "#Consumes a list of tickers, outputs tickers that:\n",
    "#   a) Are US listed\n",
    "#   b) Have an average monthly volume of 200 000 shares\n",
    "def filter_stocks(ticker_list):\n",
    "    #dates for volume calculation, end date for valid months function (see (*))\n",
    "    vol_date_s = '2022-01-01'\n",
    "    vol_date_e = '2022-10-02'\n",
    "    endDForValidMonthsFunct = str((pd.to_datetime(vol_date_e) + relativedelta(months = 1)).strftime(\"%Y-%m-%d\"))\n",
    "\n",
    "    #As outlined in assignment information\n",
    "    minimumMonthlyTradingDays = 20\n",
    "    minimum_volume = 200000\n",
    "\n",
    "    #Here we will put valid stocks that fit our criteria\n",
    "    newlist = []\n",
    "    \n",
    "    #for df_with_valid_months function, created a series of months from vol_date_s to vol_date_e\n",
    "    months = pd.date_range(vol_date_s, vol_date_e, freq='MS').strftime(\"%Y-%m\").tolist()\n",
    "\n",
    "    #Checks for criteria needed to be a valid ticker\n",
    "    for ticker in ticker_list:\n",
    "        tick = yf.Ticker(ticker)\n",
    "        tick_hist = tick.history(start = vol_date_s, end  = vol_date_e, interval = '1mo').dropna()\n",
    "        \n",
    "        try:\n",
    "            #Custom dataframe for valid months check (daily, ending one month after monthly dataframe)\n",
    "            tickHistForValidMonthsCheck = tick.history(start = vol_date_s, end  = endDForValidMonthsFunct, interval = '1d').dropna()\n",
    "            #Dataframe with valid months only\n",
    "            tickHistWithValidMonths = df_with_valid_months(minimumMonthlyTradingDays, tickHistForValidMonthsCheck, tick_hist, months)\n",
    "\n",
    "            monthly_average_volume = 0 #Initialize this to 0 to prevent errors\n",
    "            monthly_average_volume = average_volume(tickHistWithValidMonths)\n",
    "\n",
    "            currency = tick.info['financialCurrency']\n",
    "        \n",
    "            #Check for criteria\n",
    "            if (currency == 'USD' and monthly_average_volume >= minimum_volume):\n",
    "                    newlist.append(ticker)\n",
    "        #Function will throw an error if the stock isn't valid due to the attempt to call on its .info\n",
    "        except:\n",
    "            print(f\"Error retrieving {ticker}.\")\n",
    "\n",
    "    return(newlist)\n",
    "    \n",
    "#Final list of valid tickers\n",
    "ticker_list = filter_stocks(ticker_list)"
   ]
  },
  {
   "cell_type": "code",
   "execution_count": null,
   "metadata": {},
   "outputs": [],
   "source": []
  },
  {
   "cell_type": "code",
   "execution_count": null,
   "metadata": {},
   "outputs": [],
   "source": [
    "#Sathun"
   ]
  },
  {
   "cell_type": "code",
   "execution_count": null,
   "metadata": {},
   "outputs": [],
   "source": [
    "#Ishaan"
   ]
  },
  {
   "cell_type": "markdown",
   "metadata": {},
   "source": [
    "## Contribution Declaration\n",
    "\n",
    "The following team members made a meaningful contribution to this assignment:\n",
    "\n",
    "Piero Camposeo, Sathun Suthakaran, Ishaan Bansal"
   ]
  }
 ],
 "metadata": {
  "kernelspec": {
   "display_name": "venv",
   "language": "python",
   "name": "venv"
  },
  "language_info": {
   "codemirror_mode": {
    "name": "ipython",
    "version": 3
   },
   "file_extension": ".py",
   "mimetype": "text/x-python",
   "name": "python",
   "nbconvert_exporter": "python",
   "pygments_lexer": "ipython3",
   "version": "3.9.12"
  },
  "vscode": {
   "interpreter": {
    "hash": "e4330579a270bdb9a8676237a34964b41e4839bd986df81befe1ef5b370fe0dc"
   }
  }
 },
 "nbformat": 4,
 "nbformat_minor": 2
}
