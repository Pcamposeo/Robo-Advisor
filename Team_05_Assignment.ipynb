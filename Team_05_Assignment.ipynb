{
 "cells": [
  {
   "cell_type": "code",
   "execution_count": 2,
   "metadata": {},
   "outputs": [],
   "source": [
    "from IPython.display import display, Math, Latex\n",
    "\n",
    "import pandas as pd\n",
    "import numpy as np\n",
    "import numpy_financial as npf\n",
    "import yfinance as yf\n",
    "import matplotlib.pyplot as plt\n",
    "from datetime import datetime"
   ]
  },
  {
   "cell_type": "markdown",
   "metadata": {},
   "source": [
    "## Group Assignment\n",
    "### Team Number: 05\n",
    "### Team Member Names: Piero Camposeo, Sathun Suthakaran, Ishaan Bansal\n",
    "### Team Strategy Chosen: SAFE"
   ]
  },
  {
   "cell_type": "markdown",
   "metadata": {},
   "source": [
    "*Abstract and explanation go here*"
   ]
  },
  {
   "cell_type": "code",
   "execution_count": 29,
   "metadata": {},
   "outputs": [],
   "source": [
    "#Read in csv file of tickers and make values into a list\n",
    "csv_file = \"Tickers.csv\"\n",
    "\n",
    "tickers = pd.read_csv(csv_file)\n",
    "ticker_list = tickers.iloc[:, 0].values.tolist()\n",
    "ticker_list.insert(0, tickers.columns[0])"
   ]
  },
  {
   "cell_type": "code",
   "execution_count": 31,
   "metadata": {},
   "outputs": [
    {
     "name": "stdout",
     "output_type": "stream",
     "text": [
      "Cannot get stock information of AGN. It may be delisted\n",
      "Cannot get stock information of CELG. It may be delisted\n",
      "Cannot get stock information of PCLN. It may be delisted\n",
      "Cannot get stock information of RTN. It may be delisted\n",
      "Cannot get stock information of TWX. It may be delisted\n"
     ]
    },
    {
     "data": {
      "text/plain": [
       "['AAPL',\n",
       " 'ABBV',\n",
       " 'ABT',\n",
       " 'ACN',\n",
       " 'AIG',\n",
       " 'AMZN',\n",
       " 'AXP',\n",
       " 'BA',\n",
       " 'BAC',\n",
       " 'BIIB',\n",
       " 'BK',\n",
       " 'BLK',\n",
       " 'BMY',\n",
       " 'C',\n",
       " 'CAT',\n",
       " 'CL',\n",
       " 'CMCSA',\n",
       " 'COF',\n",
       " 'COP',\n",
       " 'COST',\n",
       " 'CSCO',\n",
       " 'CVS',\n",
       " 'GM',\n",
       " 'GOOG',\n",
       " 'JPM',\n",
       " 'KMI',\n",
       " 'KO',\n",
       " 'LLY',\n",
       " 'LMT',\n",
       " 'MO',\n",
       " 'MON',\n",
       " 'MRK',\n",
       " 'MS',\n",
       " 'MSFT',\n",
       " 'NEE',\n",
       " 'NKE',\n",
       " 'ORCL',\n",
       " 'OXY',\n",
       " 'PEP',\n",
       " 'PFE',\n",
       " 'PG',\n",
       " 'PM',\n",
       " 'PYPL',\n",
       " 'QCOM',\n",
       " 'SBUX',\n",
       " 'SLB',\n",
       " 'SO',\n",
       " 'SPG',\n",
       " 'T',\n",
       " 'TGT',\n",
       " 'TXN',\n",
       " 'UNH',\n",
       " 'UNP',\n",
       " 'UPS',\n",
       " 'USB']"
      ]
     },
     "execution_count": 31,
     "metadata": {},
     "output_type": "execute_result"
    }
   ],
   "source": [
    "def filter_stocks(ticker_list):\n",
    "    newlist = []\n",
    "\n",
    "    for ticker in ticker_list:\n",
    "        tick = yf.Ticker(ticker)\n",
    "\n",
    "        try:\n",
    "            if (tick.info['financialCurrency'] == 'USD'):\n",
    "                newlist.append(ticker)\n",
    "        except:\n",
    "            print(f\"Cannot get stock information of {ticker}. It may be delisted\")\n",
    "\n",
    "    return(newlist)\n",
    "    \n",
    "filter_stocks(ticker_list)\n",
    "\n"
   ]
  },
  {
   "cell_type": "code",
   "execution_count": null,
   "metadata": {},
   "outputs": [],
   "source": []
  },
  {
   "cell_type": "code",
   "execution_count": null,
   "metadata": {},
   "outputs": [],
   "source": [
    "#Sathun"
   ]
  },
  {
   "cell_type": "code",
   "execution_count": null,
   "metadata": {},
   "outputs": [],
   "source": [
    "#Ishaan"
   ]
  },
  {
   "cell_type": "markdown",
   "metadata": {},
   "source": [
    "## Contribution Declaration\n",
    "\n",
    "The following team members made a meaningful contribution to this assignment:\n",
    "\n",
    "Piero Camposeo, Sathun Suthakaran, Ishaan Bansal"
   ]
  }
 ],
 "metadata": {
  "kernelspec": {
   "display_name": "venv",
   "language": "python",
   "name": "venv"
  },
  "language_info": {
   "codemirror_mode": {
    "name": "ipython",
    "version": 3
   },
   "file_extension": ".py",
   "mimetype": "text/x-python",
   "name": "python",
   "nbconvert_exporter": "python",
   "pygments_lexer": "ipython3",
   "version": "3.9.12"
  },
  "vscode": {
   "interpreter": {
    "hash": "e4330579a270bdb9a8676237a34964b41e4839bd986df81befe1ef5b370fe0dc"
   }
  }
 },
 "nbformat": 4,
 "nbformat_minor": 2
}
